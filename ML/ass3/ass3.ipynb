{
 "cells": [
  {
   "cell_type": "code",
   "execution_count": 1,
   "metadata": {},
   "outputs": [],
   "source": [
    "import numpy as np\n",
    "import matplotlib.pyplot as plt\n",
    "import pandas as pd\n",
    "import seaborn as sns\n",
    "sns.set()"
   ]
  },
  {
   "cell_type": "markdown",
   "metadata": {},
   "source": [
    "### Data Preprocessing"
   ]
  },
  {
   "cell_type": "markdown",
   "metadata": {},
   "source": [
    "In this dataset, we have to consider which of the factors may play a role in someone exiting a bank. To do that we must look at all the column and infer whether it will matter in classifying a new customer or not. The information about a customer is entailed in columns 0 through 12 (RowNumber-EstimatedSalary), while the output (whether the customer exited or not) is stored in the 13th row (Exited)."
   ]
  },
  {
   "cell_type": "markdown",
   "metadata": {},
   "source": [
    "For as much as we care, neither the customer ID, nor the surname should matter in classification. Therefore, we will use columns 3 (CreditScore) inclusive through the 13th column (exclusive)."
   ]
  },
  {
   "cell_type": "code",
   "execution_count": 2,
   "metadata": {},
   "outputs": [
    {
     "data": {
      "text/html": [
       "<div>\n",
       "<style scoped>\n",
       "    .dataframe tbody tr th:only-of-type {\n",
       "        vertical-align: middle;\n",
       "    }\n",
       "\n",
       "    .dataframe tbody tr th {\n",
       "        vertical-align: top;\n",
       "    }\n",
       "\n",
       "    .dataframe thead th {\n",
       "        text-align: right;\n",
       "    }\n",
       "</style>\n",
       "<table border=\"1\" class=\"dataframe\">\n",
       "  <thead>\n",
       "    <tr style=\"text-align: right;\">\n",
       "      <th></th>\n",
       "      <th>CustomerId</th>\n",
       "      <th>Surname</th>\n",
       "      <th>CreditScore</th>\n",
       "      <th>Geography</th>\n",
       "      <th>Gender</th>\n",
       "      <th>Age</th>\n",
       "      <th>Tenure</th>\n",
       "      <th>Balance</th>\n",
       "      <th>NumOfProducts</th>\n",
       "      <th>HasCrCard</th>\n",
       "      <th>IsActiveMember</th>\n",
       "      <th>EstimatedSalary</th>\n",
       "      <th>Exited</th>\n",
       "    </tr>\n",
       "    <tr>\n",
       "      <th>RowNumber</th>\n",
       "      <th></th>\n",
       "      <th></th>\n",
       "      <th></th>\n",
       "      <th></th>\n",
       "      <th></th>\n",
       "      <th></th>\n",
       "      <th></th>\n",
       "      <th></th>\n",
       "      <th></th>\n",
       "      <th></th>\n",
       "      <th></th>\n",
       "      <th></th>\n",
       "      <th></th>\n",
       "    </tr>\n",
       "  </thead>\n",
       "  <tbody>\n",
       "    <tr>\n",
       "      <th>1</th>\n",
       "      <td>15634602</td>\n",
       "      <td>Hargrave</td>\n",
       "      <td>619</td>\n",
       "      <td>France</td>\n",
       "      <td>Female</td>\n",
       "      <td>42</td>\n",
       "      <td>2</td>\n",
       "      <td>0.00</td>\n",
       "      <td>1</td>\n",
       "      <td>1</td>\n",
       "      <td>1</td>\n",
       "      <td>101348.88</td>\n",
       "      <td>1</td>\n",
       "    </tr>\n",
       "    <tr>\n",
       "      <th>2</th>\n",
       "      <td>15647311</td>\n",
       "      <td>Hill</td>\n",
       "      <td>608</td>\n",
       "      <td>Spain</td>\n",
       "      <td>Female</td>\n",
       "      <td>41</td>\n",
       "      <td>1</td>\n",
       "      <td>83807.86</td>\n",
       "      <td>1</td>\n",
       "      <td>0</td>\n",
       "      <td>1</td>\n",
       "      <td>112542.58</td>\n",
       "      <td>0</td>\n",
       "    </tr>\n",
       "    <tr>\n",
       "      <th>3</th>\n",
       "      <td>15619304</td>\n",
       "      <td>Onio</td>\n",
       "      <td>502</td>\n",
       "      <td>France</td>\n",
       "      <td>Female</td>\n",
       "      <td>42</td>\n",
       "      <td>8</td>\n",
       "      <td>159660.80</td>\n",
       "      <td>3</td>\n",
       "      <td>1</td>\n",
       "      <td>0</td>\n",
       "      <td>113931.57</td>\n",
       "      <td>1</td>\n",
       "    </tr>\n",
       "    <tr>\n",
       "      <th>4</th>\n",
       "      <td>15701354</td>\n",
       "      <td>Boni</td>\n",
       "      <td>699</td>\n",
       "      <td>France</td>\n",
       "      <td>Female</td>\n",
       "      <td>39</td>\n",
       "      <td>1</td>\n",
       "      <td>0.00</td>\n",
       "      <td>2</td>\n",
       "      <td>0</td>\n",
       "      <td>0</td>\n",
       "      <td>93826.63</td>\n",
       "      <td>0</td>\n",
       "    </tr>\n",
       "    <tr>\n",
       "      <th>5</th>\n",
       "      <td>15737888</td>\n",
       "      <td>Mitchell</td>\n",
       "      <td>850</td>\n",
       "      <td>Spain</td>\n",
       "      <td>Female</td>\n",
       "      <td>43</td>\n",
       "      <td>2</td>\n",
       "      <td>125510.82</td>\n",
       "      <td>1</td>\n",
       "      <td>1</td>\n",
       "      <td>1</td>\n",
       "      <td>79084.10</td>\n",
       "      <td>0</td>\n",
       "    </tr>\n",
       "  </tbody>\n",
       "</table>\n",
       "</div>"
      ],
      "text/plain": [
       "           CustomerId   Surname  CreditScore Geography  Gender  Age  Tenure  \\\n",
       "RowNumber                                                                     \n",
       "1            15634602  Hargrave          619    France  Female   42       2   \n",
       "2            15647311      Hill          608     Spain  Female   41       1   \n",
       "3            15619304      Onio          502    France  Female   42       8   \n",
       "4            15701354      Boni          699    France  Female   39       1   \n",
       "5            15737888  Mitchell          850     Spain  Female   43       2   \n",
       "\n",
       "             Balance  NumOfProducts  HasCrCard  IsActiveMember  \\\n",
       "RowNumber                                                        \n",
       "1               0.00              1          1               1   \n",
       "2           83807.86              1          0               1   \n",
       "3          159660.80              3          1               0   \n",
       "4               0.00              2          0               0   \n",
       "5          125510.82              1          1               1   \n",
       "\n",
       "           EstimatedSalary  Exited  \n",
       "RowNumber                           \n",
       "1                101348.88       1  \n",
       "2                112542.58       0  \n",
       "3                113931.57       1  \n",
       "4                 93826.63       0  \n",
       "5                 79084.10       0  "
      ]
     },
     "execution_count": 2,
     "metadata": {},
     "output_type": "execute_result"
    }
   ],
   "source": [
    "#importing the dataset\n",
    "dataset = pd.read_csv('./Churn_Modelling.csv', index_col='RowNumber')\n",
    "dataset.head()"
   ]
  },
  {
   "cell_type": "code",
   "execution_count": 39,
   "metadata": {},
   "outputs": [
    {
     "name": "stdout",
     "output_type": "stream",
     "text": [
      "All columns: ['CustomerId', 'Surname', 'CreditScore', 'Geography', 'Gender', 'Age', 'Tenure', 'Balance', 'NumOfProducts', 'HasCrCard', 'IsActiveMember', 'EstimatedSalary', 'Exited']\n",
      "\n",
      "X values: ['CreditScore', 'Geography', 'Gender', 'Age', 'Tenure', 'Balance', 'NumOfProducts', 'HasCrCard', 'IsActiveMember', 'EstimatedSalary']\n",
      "\n",
      "y values: ['Exited']\n"
     ]
    }
   ],
   "source": [
    "X_columns = dataset.columns.tolist()[2:12]\n",
    "y_columns = dataset.columns.tolist()[-1:]\n",
    "print(f'All columns: {dataset.columns.tolist()}')\n",
    "print()\n",
    "print(f'X values: {X_columns}')\n",
    "print()\n",
    "print(f'y values: {y_columns}')"
   ]
  },
  {
   "cell_type": "code",
   "execution_count": 40,
   "metadata": {},
   "outputs": [],
   "source": [
    "X = dataset[X_columns].values # Credit Score through Estimated Salary\n",
    "y = dataset[y_columns].values # Exited"
   ]
  },
  {
   "cell_type": "code",
   "execution_count": 41,
   "metadata": {},
   "outputs": [
    {
     "name": "stdout",
     "output_type": "stream",
     "text": [
      "['France' 'Spain' 'France' 'France' 'Spain' 'Spain' 'France' 'Germany'] ... will now become: \n",
      "[0 2 0 0 2 2 0 1]\n"
     ]
    }
   ],
   "source": [
    "# Encoding categorical (string based) data. Country: there are 3 options: France, Spain and Germany\n",
    "# This will convert those strings into scalar values for analysis\n",
    "print(X[:8,1], '... will now become: ')\n",
    "from sklearn.preprocessing import LabelEncoder\n",
    "label_X_country_encoder = LabelEncoder()\n",
    "X[:,1] = label_X_country_encoder.fit_transform(X[:,1])\n",
    "print(X[:8,1])"
   ]
  },
  {
   "cell_type": "code",
   "execution_count": 42,
   "metadata": {},
   "outputs": [
    {
     "name": "stdout",
     "output_type": "stream",
     "text": [
      "['Female' 'Female' 'Female' 'Female' 'Female' 'Male'] ... will now become: \n",
      "[0 0 0 0 0 1]\n"
     ]
    }
   ],
   "source": [
    "# We will do the same thing for gender. this will be binary in this dataset\n",
    "print(X[:6,2], '... will now become: ')\n",
    "from sklearn.preprocessing import LabelEncoder\n",
    "label_X_gender_encoder = LabelEncoder()\n",
    "X[:,2] = label_X_gender_encoder.fit_transform(X[:,2])\n",
    "print(X[:6,2])"
   ]
  },
  {
   "cell_type": "markdown",
   "metadata": {},
   "source": [
    "The Problem here is that we are treating the countries as one variable with ordinal values (0 < 1 <  2). Therefore, one way to get rid of that problem is to split the countries into respective dimensions. \n"
   ]
  },
  {
   "cell_type": "markdown",
   "metadata": {},
   "source": [
    "You can now see that the first three columns represent the three countries that constituted the \"country\" category. We can now observe that  we essentially only need two columns: a 0 on two countries means that the country has to be the one variable which wasn't included. This will save us from the problem of using too many dimensions.\n",
    "\n",
    "\n",
    "We have achieved this using the `drop='first'` option in the OneHotEncoder"
   ]
  },
  {
   "cell_type": "markdown",
   "metadata": {},
   "source": [
    "Feature scaling is a method used to standardize the range of independent variables or features of data. It is basically scaling all the dimensions to be even so that one independent variable does not dominate another. For example, bank account balance ranges from millions to 0, whereas gender is either 0 or 1. If one of the features has a broad range of values, the distance will be governed by this particular feature. Therefore, the range of all features should be normalized so that each feature contributes approximately proportionately to the final distance."
   ]
  },
  {
   "cell_type": "code",
   "execution_count": 60,
   "metadata": {},
   "outputs": [
    {
     "name": "stdout",
     "output_type": "stream",
     "text": [
      "Pipeline(steps=[('Categorizer',\n",
      "                 ColumnTransformer(n_jobs=1, remainder='passthrough',\n",
      "                                   transformers=[('Gender Label encoder',\n",
      "                                                  OneHotEncoder(drop='first'),\n",
      "                                                  [2]),\n",
      "                                                 ('Geography One Hot',\n",
      "                                                  OneHotEncoder(drop='first'),\n",
      "                                                  [1])])),\n",
      "                ('Normalizer', StandardScaler())])\n"
     ]
    }
   ],
   "source": [
    "from sklearn.preprocessing import StandardScaler, OneHotEncoder\n",
    "from sklearn.compose import ColumnTransformer\n",
    "from sklearn.pipeline import Pipeline\n",
    "\n",
    "\n",
    "pipeline = Pipeline(\n",
    "    [('Categorizer', ColumnTransformer(\n",
    "         [ # Gender\n",
    "          (\"Gender Label encoder\", OneHotEncoder(categories='auto', drop='first'), [2]),\n",
    "           # Geography\n",
    "          (\"Geography One Hot\", OneHotEncoder(categories='auto', drop='first'), [1])\n",
    "         ], remainder='passthrough', n_jobs=1)),\n",
    "     # Standard Scaler for the classifier\n",
    "    ('Normalizer', StandardScaler())\n",
    "    ])\n"
   ]
  },
  {
   "cell_type": "code",
   "execution_count": 77,
   "metadata": {},
   "outputs": [
    {
     "name": "stdout",
     "output_type": "stream",
     "text": [
      "[[-1.09598752 -0.57873591 -0.57380915 ...  0.64609167  0.97024255\n",
      "   0.02188649]\n",
      " [-1.09598752 -0.57873591  1.74273971 ... -1.54776799  0.97024255\n",
      "   0.21653375]\n",
      " [-1.09598752 -0.57873591 -0.57380915 ...  0.64609167 -1.03067011\n",
      "   0.2406869 ]\n",
      " ...\n",
      " [-1.09598752 -0.57873591 -0.57380915 ... -1.54776799  0.97024255\n",
      "  -1.00864308]\n",
      " [ 0.91241915  1.72790383 -0.57380915 ...  0.64609167 -1.03067011\n",
      "  -0.12523071]\n",
      " [-1.09598752 -0.57873591 -0.57380915 ...  0.64609167 -1.03067011\n",
      "  -1.07636976]]\n"
     ]
    }
   ],
   "source": [
    "X = pipeline.fit_transform(X)\n",
    "\n"
   ]
  },
  {
   "cell_type": "code",
   "execution_count": 78,
   "metadata": {},
   "outputs": [],
   "source": [
    "# Splitting the dataset into the Training and Testing set.\n",
    "from sklearn.model_selection import train_test_split\n",
    "X_train, X_test, y_train, y_test = train_test_split(X,y, test_size = 0.2, random_state = 0)"
   ]
  },
  {
   "cell_type": "code",
   "execution_count": 79,
   "metadata": {},
   "outputs": [
    {
     "name": "stdout",
     "output_type": "stream",
     "text": [
      "training shapes: (8000, 11), (8000, 1)\n",
      "testing shapes: (2000, 11), (2000, 1)\n"
     ]
    }
   ],
   "source": [
    "print(f'training shapes: {X_train.shape}, {y_train.shape}')\n",
    "print(f'testing shapes: {X_test.shape}, {y_test.shape}')"
   ]
  },
  {
   "cell_type": "markdown",
   "metadata": {},
   "source": [
    "### End of Preprocessing"
   ]
  },
  {
   "cell_type": "markdown",
   "metadata": {},
   "source": [
    "Making the NN"
   ]
  },
  {
   "cell_type": "code",
   "execution_count": 80,
   "metadata": {},
   "outputs": [],
   "source": [
    "\n",
    "from keras.models import Sequential\n",
    "from keras.layers import Dense, Dropout"
   ]
  },
  {
   "cell_type": "code",
   "execution_count": 81,
   "metadata": {},
   "outputs": [],
   "source": [
    "classifier = Sequential()"
   ]
  },
  {
   "cell_type": "code",
   "execution_count": 82,
   "metadata": {},
   "outputs": [],
   "source": [
    "classifier.add(Dense(6, activation = 'relu', input_shape = (X_train.shape[1], )))\n",
    "classifier.add(Dropout(rate=0.1)) "
   ]
  },
  {
   "cell_type": "markdown",
   "metadata": {},
   "source": [
    "We are going to add another layer to this model because we want to implement Deep Learning, which is an artificial Neural network with many layers.\n",
    "We will make our second hidden layer also have 6 nodes, just playing with the same arithmetic we used to determine the dimensions of the first hidden layer (average of your input and output layers)  (11+1)÷2=6 ."
   ]
  },
  {
   "cell_type": "code",
   "execution_count": 83,
   "metadata": {},
   "outputs": [],
   "source": [
    "# Adding the second hidden layer\n",
    "# Notice that we do not need to specify input dim. \n",
    "classifier.add(Dense(6, activation = 'relu')) \n",
    "classifier.add(Dropout(rate=0.1)) "
   ]
  },
  {
   "cell_type": "markdown",
   "metadata": {},
   "source": [
    "#### Adding the output layer\n"
   ]
  },
  {
   "cell_type": "markdown",
   "metadata": {},
   "source": [
    "The breakdown of the inputs for the output layer is as follows:\n",
    "activiation: sigmoid becasue we are in an output layer. uses the Sigmoid activation function for  𝜙 . This is used instead of the ReLu function becasue it generates probabilities for the outcome. We want the probability that each customer leaves the bank.\n",
    "\n",
    "units: 6 nodes (number of nodes in hidden layer). Can think of this as number of nodes are in the next layer.\n",
    "\n",
    "input_dim: 11 because we span 11 dimensions in our input layer. This is needed for the first added layer. The subsequent layers's input dimensions can be inferred using the previously added layer's output dimension. The next hidden layer will know what to expect."
   ]
  },
  {
   "cell_type": "code",
   "execution_count": 84,
   "metadata": {},
   "outputs": [],
   "source": [
    "# Adding the output layer\n",
    "# Notice that we do not need to specify input dim. \n",
    "# we have an output of 1 node, which is the the desired dimensions of our output (stay with the bank or not)\n",
    "# We use the sigmoid because we want probability outcomes\n",
    "classifier.add(Dense(1, activation = 'sigmoid')) "
   ]
  },
  {
   "cell_type": "markdown",
   "metadata": {},
   "source": [
    "If we want more than two categories, then we will need to change\n",
    "1) the units parameter to match the desired category count\n",
    "\n",
    "2) the activation field to softmax. Basically a sigmoid function but applied to a dependent variable that has more than 2 categories."
   ]
  },
  {
   "cell_type": "code",
   "execution_count": 85,
   "metadata": {},
   "outputs": [
    {
     "name": "stdout",
     "output_type": "stream",
     "text": [
      "Model: \"sequential_4\"\n",
      "_________________________________________________________________\n",
      " Layer (type)                Output Shape              Param #   \n",
      "=================================================================\n",
      " dense_12 (Dense)            (None, 6)                 72        \n",
      "                                                                 \n",
      " dropout_8 (Dropout)         (None, 6)                 0         \n",
      "                                                                 \n",
      " dense_13 (Dense)            (None, 6)                 42        \n",
      "                                                                 \n",
      " dropout_9 (Dropout)         (None, 6)                 0         \n",
      "                                                                 \n",
      " dense_14 (Dense)            (None, 1)                 7         \n",
      "                                                                 \n",
      "=================================================================\n",
      "Total params: 121\n",
      "Trainable params: 121\n",
      "Non-trainable params: 0\n",
      "_________________________________________________________________\n"
     ]
    }
   ],
   "source": [
    "classifier.summary()"
   ]
  },
  {
   "cell_type": "markdown",
   "metadata": {},
   "source": [
    "Basically applying Stochastic Gradient descent on the whole Neural Network. We are Tuning the individual weights on each neuron.\n",
    "\n",
    "The breakdown of the inputs for compiling is as follows:\n",
    "\n",
    "\n",
    "`optimizer`: adam The algorithm we want to use to find the optimal set of weights in the neural networks. Adam is a very efficeint variation of Stochastic Gradient Descent.\n",
    "\n",
    "`loss`: binary_crossentropy This is the loss function used within adam. This should be the logarthmic loss. If our dependent (output variable) is Binary, it is binary_crossentropy. If Categorical, then it is called categorical_crossentropy\n",
    "\n",
    "`metrics`: [accuracy] The accuracy metrics which will be evaluated(minimized) by the model. Used as accuracy criteria to imporve model performance."
   ]
  },
  {
   "cell_type": "code",
   "execution_count": 86,
   "metadata": {},
   "outputs": [],
   "source": [
    "classifier.compile(optimizer='adam', loss = 'binary_crossentropy', metrics=['accuracy'])"
   ]
  },
  {
   "cell_type": "markdown",
   "metadata": {},
   "source": [
    "### Fitting the Neural Network\n",
    "\n",
    "The breakdown of the inputs for compiling is as follows:\n",
    "\n",
    "`X_train`: The independent variable portion of the data which needs to be fitted with the model.\n",
    "\n",
    "`Y_train`: The output portion of the data which the model needs to produce after fitting.\n",
    "\n",
    "`batch_size`: How often we want to back-propogate the error values so that individual node weights can be adjusted.\n",
    "\n",
    "`epochs`: The number of times we want to run the entire test data over again to tune the weights. This is like the fuel of the algorithm.\n",
    "\n",
    "`validation_split`: 0.2 The fraction of data to use for validation data."
   ]
  },
  {
   "cell_type": "code",
   "execution_count": 87,
   "metadata": {},
   "outputs": [
    {
     "name": "stdout",
     "output_type": "stream",
     "text": [
      "Epoch 1/200\n",
      "225/225 - 0s - loss: 0.5033 - accuracy: 0.7987 - val_loss: 0.4493 - val_accuracy: 0.8050 - 373ms/epoch - 2ms/step\n",
      "Epoch 2/200\n",
      "225/225 - 0s - loss: 0.4591 - accuracy: 0.8033 - val_loss: 0.4201 - val_accuracy: 0.8163 - 92ms/epoch - 411us/step\n",
      "Epoch 3/200\n",
      "225/225 - 0s - loss: 0.4422 - accuracy: 0.8092 - val_loss: 0.4065 - val_accuracy: 0.8325 - 92ms/epoch - 410us/step\n",
      "Epoch 4/200\n",
      "225/225 - 0s - loss: 0.4372 - accuracy: 0.8179 - val_loss: 0.4003 - val_accuracy: 0.8388 - 91ms/epoch - 403us/step\n",
      "Epoch 5/200\n",
      "225/225 - 0s - loss: 0.4299 - accuracy: 0.8176 - val_loss: 0.3960 - val_accuracy: 0.8425 - 92ms/epoch - 408us/step\n",
      "Epoch 6/200\n",
      "225/225 - 0s - loss: 0.4319 - accuracy: 0.8189 - val_loss: 0.3938 - val_accuracy: 0.8462 - 92ms/epoch - 409us/step\n",
      "Epoch 7/200\n",
      "225/225 - 0s - loss: 0.4277 - accuracy: 0.8172 - val_loss: 0.3907 - val_accuracy: 0.8450 - 91ms/epoch - 407us/step\n",
      "Epoch 8/200\n",
      "225/225 - 0s - loss: 0.4220 - accuracy: 0.8206 - val_loss: 0.3882 - val_accuracy: 0.8438 - 90ms/epoch - 398us/step\n",
      "Epoch 9/200\n",
      "225/225 - 0s - loss: 0.4244 - accuracy: 0.8192 - val_loss: 0.3869 - val_accuracy: 0.8450 - 92ms/epoch - 410us/step\n",
      "Epoch 10/200\n",
      "225/225 - 0s - loss: 0.4218 - accuracy: 0.8181 - val_loss: 0.3852 - val_accuracy: 0.8475 - 90ms/epoch - 402us/step\n",
      "Epoch 11/200\n",
      "225/225 - 0s - loss: 0.4156 - accuracy: 0.8222 - val_loss: 0.3818 - val_accuracy: 0.8425 - 90ms/epoch - 399us/step\n",
      "Epoch 12/200\n",
      "225/225 - 0s - loss: 0.4187 - accuracy: 0.8188 - val_loss: 0.3806 - val_accuracy: 0.8450 - 93ms/epoch - 415us/step\n",
      "Epoch 13/200\n",
      "225/225 - 0s - loss: 0.4170 - accuracy: 0.8179 - val_loss: 0.3792 - val_accuracy: 0.8425 - 94ms/epoch - 420us/step\n",
      "Epoch 14/200\n",
      "225/225 - 0s - loss: 0.4187 - accuracy: 0.8194 - val_loss: 0.3795 - val_accuracy: 0.8438 - 90ms/epoch - 402us/step\n",
      "Epoch 15/200\n",
      "225/225 - 0s - loss: 0.4138 - accuracy: 0.8210 - val_loss: 0.3771 - val_accuracy: 0.8438 - 92ms/epoch - 410us/step\n",
      "Epoch 16/200\n",
      "225/225 - 0s - loss: 0.4143 - accuracy: 0.8217 - val_loss: 0.3770 - val_accuracy: 0.8462 - 93ms/epoch - 415us/step\n",
      "Epoch 17/200\n",
      "225/225 - 0s - loss: 0.4101 - accuracy: 0.8197 - val_loss: 0.3768 - val_accuracy: 0.8475 - 92ms/epoch - 410us/step\n",
      "Epoch 18/200\n",
      "225/225 - 0s - loss: 0.4129 - accuracy: 0.8165 - val_loss: 0.3767 - val_accuracy: 0.8475 - 96ms/epoch - 428us/step\n",
      "Epoch 19/200\n",
      "225/225 - 0s - loss: 0.4104 - accuracy: 0.8208 - val_loss: 0.3755 - val_accuracy: 0.8462 - 91ms/epoch - 404us/step\n",
      "Epoch 20/200\n",
      "225/225 - 0s - loss: 0.4124 - accuracy: 0.8181 - val_loss: 0.3762 - val_accuracy: 0.8475 - 93ms/epoch - 412us/step\n",
      "Epoch 21/200\n",
      "225/225 - 0s - loss: 0.4110 - accuracy: 0.8174 - val_loss: 0.3756 - val_accuracy: 0.8475 - 89ms/epoch - 397us/step\n",
      "Epoch 22/200\n",
      "225/225 - 0s - loss: 0.4068 - accuracy: 0.8176 - val_loss: 0.3754 - val_accuracy: 0.8462 - 92ms/epoch - 411us/step\n",
      "Epoch 23/200\n",
      "225/225 - 0s - loss: 0.4066 - accuracy: 0.8218 - val_loss: 0.3729 - val_accuracy: 0.8462 - 92ms/epoch - 408us/step\n",
      "Epoch 24/200\n",
      "225/225 - 0s - loss: 0.4019 - accuracy: 0.8204 - val_loss: 0.3704 - val_accuracy: 0.8500 - 90ms/epoch - 399us/step\n",
      "Epoch 25/200\n",
      "225/225 - 0s - loss: 0.4061 - accuracy: 0.8175 - val_loss: 0.3705 - val_accuracy: 0.8500 - 89ms/epoch - 396us/step\n",
      "Epoch 26/200\n",
      "225/225 - 0s - loss: 0.4023 - accuracy: 0.8201 - val_loss: 0.3690 - val_accuracy: 0.8487 - 90ms/epoch - 400us/step\n",
      "Epoch 27/200\n",
      "225/225 - 0s - loss: 0.4047 - accuracy: 0.8179 - val_loss: 0.3687 - val_accuracy: 0.8475 - 90ms/epoch - 399us/step\n",
      "Epoch 28/200\n",
      "225/225 - 0s - loss: 0.4044 - accuracy: 0.8201 - val_loss: 0.3674 - val_accuracy: 0.8450 - 93ms/epoch - 413us/step\n",
      "Epoch 29/200\n",
      "225/225 - 0s - loss: 0.4021 - accuracy: 0.8181 - val_loss: 0.3658 - val_accuracy: 0.8450 - 92ms/epoch - 410us/step\n",
      "Epoch 30/200\n",
      "225/225 - 0s - loss: 0.4029 - accuracy: 0.8197 - val_loss: 0.3657 - val_accuracy: 0.8462 - 90ms/epoch - 399us/step\n",
      "Epoch 31/200\n",
      "225/225 - 0s - loss: 0.4046 - accuracy: 0.8175 - val_loss: 0.3639 - val_accuracy: 0.8487 - 89ms/epoch - 397us/step\n",
      "Epoch 32/200\n",
      "225/225 - 0s - loss: 0.4067 - accuracy: 0.8167 - val_loss: 0.3638 - val_accuracy: 0.8450 - 89ms/epoch - 396us/step\n",
      "Epoch 33/200\n",
      "225/225 - 0s - loss: 0.4099 - accuracy: 0.8156 - val_loss: 0.3633 - val_accuracy: 0.8450 - 90ms/epoch - 398us/step\n",
      "Epoch 34/200\n",
      "225/225 - 0s - loss: 0.4034 - accuracy: 0.8194 - val_loss: 0.3622 - val_accuracy: 0.8462 - 89ms/epoch - 397us/step\n",
      "Epoch 35/200\n",
      "225/225 - 0s - loss: 0.4039 - accuracy: 0.8215 - val_loss: 0.3613 - val_accuracy: 0.8425 - 89ms/epoch - 397us/step\n",
      "Epoch 36/200\n",
      "225/225 - 0s - loss: 0.4028 - accuracy: 0.8174 - val_loss: 0.3607 - val_accuracy: 0.8413 - 89ms/epoch - 397us/step\n",
      "Epoch 37/200\n",
      "225/225 - 0s - loss: 0.3994 - accuracy: 0.8242 - val_loss: 0.3597 - val_accuracy: 0.8450 - 89ms/epoch - 396us/step\n",
      "Epoch 38/200\n",
      "225/225 - 0s - loss: 0.4060 - accuracy: 0.8171 - val_loss: 0.3590 - val_accuracy: 0.8438 - 89ms/epoch - 396us/step\n",
      "Epoch 39/200\n",
      "225/225 - 0s - loss: 0.3990 - accuracy: 0.8199 - val_loss: 0.3579 - val_accuracy: 0.8475 - 89ms/epoch - 396us/step\n",
      "Epoch 40/200\n",
      "225/225 - 0s - loss: 0.4004 - accuracy: 0.8199 - val_loss: 0.3560 - val_accuracy: 0.8462 - 90ms/epoch - 399us/step\n",
      "Epoch 41/200\n",
      "225/225 - 0s - loss: 0.3983 - accuracy: 0.8221 - val_loss: 0.3562 - val_accuracy: 0.8438 - 87ms/epoch - 388us/step\n",
      "Epoch 42/200\n",
      "225/225 - 0s - loss: 0.3991 - accuracy: 0.8228 - val_loss: 0.3568 - val_accuracy: 0.8438 - 89ms/epoch - 397us/step\n",
      "Epoch 43/200\n",
      "225/225 - 0s - loss: 0.3960 - accuracy: 0.8221 - val_loss: 0.3551 - val_accuracy: 0.8462 - 89ms/epoch - 395us/step\n",
      "Epoch 44/200\n",
      "225/225 - 0s - loss: 0.3989 - accuracy: 0.8225 - val_loss: 0.3535 - val_accuracy: 0.8462 - 90ms/epoch - 400us/step\n",
      "Epoch 45/200\n",
      "225/225 - 0s - loss: 0.4003 - accuracy: 0.8215 - val_loss: 0.3540 - val_accuracy: 0.8450 - 89ms/epoch - 397us/step\n",
      "Epoch 46/200\n",
      "225/225 - 0s - loss: 0.3980 - accuracy: 0.8240 - val_loss: 0.3546 - val_accuracy: 0.8475 - 90ms/epoch - 400us/step\n",
      "Epoch 47/200\n",
      "225/225 - 0s - loss: 0.3994 - accuracy: 0.8215 - val_loss: 0.3532 - val_accuracy: 0.8462 - 89ms/epoch - 397us/step\n",
      "Epoch 48/200\n",
      "225/225 - 0s - loss: 0.3984 - accuracy: 0.8204 - val_loss: 0.3533 - val_accuracy: 0.8462 - 88ms/epoch - 393us/step\n",
      "Epoch 49/200\n",
      "225/225 - 0s - loss: 0.3996 - accuracy: 0.8199 - val_loss: 0.3530 - val_accuracy: 0.8438 - 88ms/epoch - 393us/step\n",
      "Epoch 50/200\n",
      "225/225 - 0s - loss: 0.4000 - accuracy: 0.8215 - val_loss: 0.3531 - val_accuracy: 0.8487 - 88ms/epoch - 391us/step\n",
      "Epoch 51/200\n",
      "225/225 - 0s - loss: 0.3964 - accuracy: 0.8206 - val_loss: 0.3522 - val_accuracy: 0.8500 - 88ms/epoch - 392us/step\n",
      "Epoch 52/200\n",
      "225/225 - 0s - loss: 0.4005 - accuracy: 0.8218 - val_loss: 0.3524 - val_accuracy: 0.8462 - 90ms/epoch - 402us/step\n",
      "Epoch 53/200\n",
      "225/225 - 0s - loss: 0.3971 - accuracy: 0.8206 - val_loss: 0.3516 - val_accuracy: 0.8487 - 90ms/epoch - 399us/step\n",
      "Epoch 54/200\n",
      "225/225 - 0s - loss: 0.3960 - accuracy: 0.8229 - val_loss: 0.3489 - val_accuracy: 0.8487 - 89ms/epoch - 397us/step\n",
      "Epoch 55/200\n",
      "225/225 - 0s - loss: 0.3914 - accuracy: 0.8238 - val_loss: 0.3482 - val_accuracy: 0.8475 - 90ms/epoch - 400us/step\n",
      "Epoch 56/200\n",
      "225/225 - 0s - loss: 0.3957 - accuracy: 0.8281 - val_loss: 0.3476 - val_accuracy: 0.8575 - 94ms/epoch - 416us/step\n",
      "Epoch 57/200\n",
      "225/225 - 0s - loss: 0.3969 - accuracy: 0.8322 - val_loss: 0.3468 - val_accuracy: 0.8562 - 90ms/epoch - 398us/step\n",
      "Epoch 58/200\n",
      "225/225 - 0s - loss: 0.3969 - accuracy: 0.8328 - val_loss: 0.3467 - val_accuracy: 0.8575 - 89ms/epoch - 395us/step\n",
      "Epoch 59/200\n",
      "225/225 - 0s - loss: 0.3921 - accuracy: 0.8349 - val_loss: 0.3454 - val_accuracy: 0.8612 - 90ms/epoch - 398us/step\n",
      "Epoch 60/200\n",
      "225/225 - 0s - loss: 0.3963 - accuracy: 0.8363 - val_loss: 0.3453 - val_accuracy: 0.8650 - 87ms/epoch - 389us/step\n",
      "Epoch 61/200\n",
      "225/225 - 0s - loss: 0.3932 - accuracy: 0.8386 - val_loss: 0.3443 - val_accuracy: 0.8600 - 91ms/epoch - 403us/step\n",
      "Epoch 62/200\n",
      "225/225 - 0s - loss: 0.3923 - accuracy: 0.8361 - val_loss: 0.3442 - val_accuracy: 0.8650 - 91ms/epoch - 404us/step\n",
      "Epoch 63/200\n",
      "225/225 - 0s - loss: 0.3914 - accuracy: 0.8369 - val_loss: 0.3423 - val_accuracy: 0.8625 - 89ms/epoch - 395us/step\n",
      "Epoch 64/200\n",
      "225/225 - 0s - loss: 0.3948 - accuracy: 0.8340 - val_loss: 0.3430 - val_accuracy: 0.8650 - 90ms/epoch - 400us/step\n",
      "Epoch 65/200\n",
      "225/225 - 0s - loss: 0.3965 - accuracy: 0.8336 - val_loss: 0.3435 - val_accuracy: 0.8650 - 89ms/epoch - 396us/step\n",
      "Epoch 66/200\n",
      "225/225 - 0s - loss: 0.3927 - accuracy: 0.8340 - val_loss: 0.3430 - val_accuracy: 0.8637 - 90ms/epoch - 400us/step\n",
      "Epoch 67/200\n",
      "225/225 - 0s - loss: 0.3961 - accuracy: 0.8349 - val_loss: 0.3439 - val_accuracy: 0.8637 - 89ms/epoch - 398us/step\n",
      "Epoch 68/200\n",
      "225/225 - 0s - loss: 0.3901 - accuracy: 0.8376 - val_loss: 0.3426 - val_accuracy: 0.8637 - 88ms/epoch - 393us/step\n",
      "Epoch 69/200\n",
      "225/225 - 0s - loss: 0.3885 - accuracy: 0.8342 - val_loss: 0.3434 - val_accuracy: 0.8675 - 89ms/epoch - 398us/step\n",
      "Epoch 70/200\n",
      "225/225 - 0s - loss: 0.3931 - accuracy: 0.8329 - val_loss: 0.3421 - val_accuracy: 0.8637 - 86ms/epoch - 384us/step\n",
      "Epoch 71/200\n",
      "225/225 - 0s - loss: 0.3903 - accuracy: 0.8346 - val_loss: 0.3415 - val_accuracy: 0.8662 - 90ms/epoch - 400us/step\n",
      "Epoch 72/200\n",
      "225/225 - 0s - loss: 0.3885 - accuracy: 0.8385 - val_loss: 0.3402 - val_accuracy: 0.8662 - 89ms/epoch - 396us/step\n",
      "Epoch 73/200\n",
      "225/225 - 0s - loss: 0.3921 - accuracy: 0.8353 - val_loss: 0.3404 - val_accuracy: 0.8662 - 89ms/epoch - 397us/step\n",
      "Epoch 74/200\n",
      "225/225 - 0s - loss: 0.3933 - accuracy: 0.8364 - val_loss: 0.3419 - val_accuracy: 0.8662 - 89ms/epoch - 397us/step\n",
      "Epoch 75/200\n",
      "225/225 - 0s - loss: 0.3899 - accuracy: 0.8389 - val_loss: 0.3408 - val_accuracy: 0.8700 - 89ms/epoch - 397us/step\n",
      "Epoch 76/200\n",
      "225/225 - 0s - loss: 0.3908 - accuracy: 0.8385 - val_loss: 0.3392 - val_accuracy: 0.8700 - 90ms/epoch - 398us/step\n",
      "Epoch 77/200\n",
      "225/225 - 0s - loss: 0.3941 - accuracy: 0.8360 - val_loss: 0.3407 - val_accuracy: 0.8675 - 88ms/epoch - 392us/step\n",
      "Epoch 78/200\n",
      "225/225 - 0s - loss: 0.3914 - accuracy: 0.8351 - val_loss: 0.3399 - val_accuracy: 0.8675 - 90ms/epoch - 398us/step\n",
      "Epoch 79/200\n",
      "225/225 - 0s - loss: 0.3927 - accuracy: 0.8363 - val_loss: 0.3399 - val_accuracy: 0.8662 - 87ms/epoch - 387us/step\n",
      "Epoch 80/200\n",
      "225/225 - 0s - loss: 0.3900 - accuracy: 0.8371 - val_loss: 0.3404 - val_accuracy: 0.8712 - 89ms/epoch - 394us/step\n",
      "Epoch 81/200\n",
      "225/225 - 0s - loss: 0.3878 - accuracy: 0.8349 - val_loss: 0.3398 - val_accuracy: 0.8687 - 91ms/epoch - 404us/step\n",
      "Epoch 82/200\n",
      "225/225 - 0s - loss: 0.3898 - accuracy: 0.8351 - val_loss: 0.3399 - val_accuracy: 0.8650 - 89ms/epoch - 394us/step\n",
      "Epoch 83/200\n",
      "225/225 - 0s - loss: 0.3882 - accuracy: 0.8378 - val_loss: 0.3403 - val_accuracy: 0.8675 - 90ms/epoch - 399us/step\n",
      "Epoch 84/200\n",
      "225/225 - 0s - loss: 0.3845 - accuracy: 0.8376 - val_loss: 0.3399 - val_accuracy: 0.8687 - 88ms/epoch - 393us/step\n",
      "Epoch 85/200\n",
      "225/225 - 0s - loss: 0.3905 - accuracy: 0.8333 - val_loss: 0.3388 - val_accuracy: 0.8687 - 88ms/epoch - 393us/step\n",
      "Epoch 86/200\n",
      "225/225 - 0s - loss: 0.3871 - accuracy: 0.8394 - val_loss: 0.3395 - val_accuracy: 0.8637 - 89ms/epoch - 395us/step\n",
      "Epoch 87/200\n",
      "225/225 - 0s - loss: 0.3940 - accuracy: 0.8351 - val_loss: 0.3409 - val_accuracy: 0.8650 - 89ms/epoch - 395us/step\n",
      "Epoch 88/200\n",
      "225/225 - 0s - loss: 0.3939 - accuracy: 0.8347 - val_loss: 0.3412 - val_accuracy: 0.8700 - 87ms/epoch - 388us/step\n",
      "Epoch 89/200\n",
      "225/225 - 0s - loss: 0.3903 - accuracy: 0.8365 - val_loss: 0.3398 - val_accuracy: 0.8725 - 90ms/epoch - 401us/step\n",
      "Epoch 90/200\n",
      "225/225 - 0s - loss: 0.3831 - accuracy: 0.8364 - val_loss: 0.3385 - val_accuracy: 0.8650 - 89ms/epoch - 396us/step\n",
      "Epoch 91/200\n",
      "225/225 - 0s - loss: 0.3892 - accuracy: 0.8364 - val_loss: 0.3380 - val_accuracy: 0.8675 - 89ms/epoch - 397us/step\n",
      "Epoch 92/200\n",
      "225/225 - 0s - loss: 0.3900 - accuracy: 0.8374 - val_loss: 0.3378 - val_accuracy: 0.8687 - 90ms/epoch - 399us/step\n",
      "Epoch 93/200\n",
      "225/225 - 0s - loss: 0.3845 - accuracy: 0.8411 - val_loss: 0.3374 - val_accuracy: 0.8650 - 91ms/epoch - 405us/step\n",
      "Epoch 94/200\n",
      "225/225 - 0s - loss: 0.3879 - accuracy: 0.8383 - val_loss: 0.3371 - val_accuracy: 0.8662 - 90ms/epoch - 400us/step\n",
      "Epoch 95/200\n",
      "225/225 - 0s - loss: 0.3818 - accuracy: 0.8422 - val_loss: 0.3355 - val_accuracy: 0.8737 - 89ms/epoch - 397us/step\n",
      "Epoch 96/200\n",
      "225/225 - 0s - loss: 0.3880 - accuracy: 0.8396 - val_loss: 0.3380 - val_accuracy: 0.8662 - 89ms/epoch - 393us/step\n",
      "Epoch 97/200\n",
      "225/225 - 0s - loss: 0.3856 - accuracy: 0.8389 - val_loss: 0.3365 - val_accuracy: 0.8700 - 86ms/epoch - 383us/step\n",
      "Epoch 98/200\n",
      "225/225 - 0s - loss: 0.3865 - accuracy: 0.8382 - val_loss: 0.3384 - val_accuracy: 0.8725 - 92ms/epoch - 409us/step\n",
      "Epoch 99/200\n",
      "225/225 - 0s - loss: 0.3846 - accuracy: 0.8349 - val_loss: 0.3370 - val_accuracy: 0.8687 - 91ms/epoch - 402us/step\n",
      "Epoch 100/200\n",
      "225/225 - 0s - loss: 0.3838 - accuracy: 0.8378 - val_loss: 0.3381 - val_accuracy: 0.8700 - 94ms/epoch - 416us/step\n",
      "Epoch 101/200\n",
      "225/225 - 0s - loss: 0.3862 - accuracy: 0.8393 - val_loss: 0.3373 - val_accuracy: 0.8712 - 92ms/epoch - 411us/step\n",
      "Epoch 102/200\n",
      "225/225 - 0s - loss: 0.3863 - accuracy: 0.8358 - val_loss: 0.3368 - val_accuracy: 0.8725 - 90ms/epoch - 400us/step\n",
      "Epoch 103/200\n",
      "225/225 - 0s - loss: 0.3856 - accuracy: 0.8358 - val_loss: 0.3373 - val_accuracy: 0.8675 - 91ms/epoch - 403us/step\n",
      "Epoch 104/200\n",
      "225/225 - 0s - loss: 0.3856 - accuracy: 0.8371 - val_loss: 0.3372 - val_accuracy: 0.8675 - 90ms/epoch - 399us/step\n",
      "Epoch 105/200\n",
      "225/225 - 0s - loss: 0.3892 - accuracy: 0.8376 - val_loss: 0.3360 - val_accuracy: 0.8700 - 90ms/epoch - 398us/step\n",
      "Epoch 106/200\n",
      "225/225 - 0s - loss: 0.3866 - accuracy: 0.8386 - val_loss: 0.3362 - val_accuracy: 0.8687 - 88ms/epoch - 392us/step\n",
      "Epoch 107/200\n",
      "225/225 - 0s - loss: 0.3894 - accuracy: 0.8375 - val_loss: 0.3376 - val_accuracy: 0.8675 - 88ms/epoch - 393us/step\n",
      "Epoch 108/200\n",
      "225/225 - 0s - loss: 0.3884 - accuracy: 0.8361 - val_loss: 0.3370 - val_accuracy: 0.8700 - 87ms/epoch - 388us/step\n",
      "Epoch 109/200\n",
      "225/225 - 0s - loss: 0.3897 - accuracy: 0.8382 - val_loss: 0.3367 - val_accuracy: 0.8662 - 90ms/epoch - 398us/step\n",
      "Epoch 110/200\n",
      "225/225 - 0s - loss: 0.3850 - accuracy: 0.8374 - val_loss: 0.3370 - val_accuracy: 0.8662 - 90ms/epoch - 399us/step\n",
      "Epoch 111/200\n",
      "225/225 - 0s - loss: 0.3886 - accuracy: 0.8379 - val_loss: 0.3379 - val_accuracy: 0.8687 - 89ms/epoch - 395us/step\n",
      "Epoch 112/200\n",
      "225/225 - 0s - loss: 0.3916 - accuracy: 0.8368 - val_loss: 0.3399 - val_accuracy: 0.8637 - 90ms/epoch - 402us/step\n",
      "Epoch 113/200\n",
      "225/225 - 0s - loss: 0.3858 - accuracy: 0.8401 - val_loss: 0.3364 - val_accuracy: 0.8625 - 89ms/epoch - 397us/step\n",
      "Epoch 114/200\n",
      "225/225 - 0s - loss: 0.3842 - accuracy: 0.8389 - val_loss: 0.3376 - val_accuracy: 0.8637 - 89ms/epoch - 395us/step\n",
      "Epoch 115/200\n",
      "225/225 - 0s - loss: 0.3900 - accuracy: 0.8361 - val_loss: 0.3383 - val_accuracy: 0.8625 - 90ms/epoch - 400us/step\n",
      "Epoch 116/200\n",
      "225/225 - 0s - loss: 0.3885 - accuracy: 0.8401 - val_loss: 0.3377 - val_accuracy: 0.8675 - 89ms/epoch - 395us/step\n",
      "Epoch 117/200\n",
      "225/225 - 0s - loss: 0.3869 - accuracy: 0.8394 - val_loss: 0.3375 - val_accuracy: 0.8662 - 87ms/epoch - 389us/step\n",
      "Epoch 118/200\n",
      "225/225 - 0s - loss: 0.3872 - accuracy: 0.8396 - val_loss: 0.3380 - val_accuracy: 0.8675 - 89ms/epoch - 395us/step\n",
      "Epoch 119/200\n",
      "225/225 - 0s - loss: 0.3870 - accuracy: 0.8379 - val_loss: 0.3371 - val_accuracy: 0.8650 - 89ms/epoch - 394us/step\n",
      "Epoch 120/200\n",
      "225/225 - 0s - loss: 0.3861 - accuracy: 0.8428 - val_loss: 0.3354 - val_accuracy: 0.8687 - 89ms/epoch - 394us/step\n",
      "Epoch 121/200\n",
      "225/225 - 0s - loss: 0.3887 - accuracy: 0.8401 - val_loss: 0.3364 - val_accuracy: 0.8662 - 89ms/epoch - 396us/step\n",
      "Epoch 122/200\n",
      "225/225 - 0s - loss: 0.3838 - accuracy: 0.8378 - val_loss: 0.3360 - val_accuracy: 0.8662 - 88ms/epoch - 390us/step\n",
      "Epoch 123/200\n",
      "225/225 - 0s - loss: 0.3875 - accuracy: 0.8375 - val_loss: 0.3359 - val_accuracy: 0.8650 - 89ms/epoch - 396us/step\n",
      "Epoch 124/200\n",
      "225/225 - 0s - loss: 0.3914 - accuracy: 0.8397 - val_loss: 0.3391 - val_accuracy: 0.8662 - 89ms/epoch - 397us/step\n",
      "Epoch 125/200\n",
      "225/225 - 0s - loss: 0.3821 - accuracy: 0.8404 - val_loss: 0.3389 - val_accuracy: 0.8675 - 88ms/epoch - 392us/step\n",
      "Epoch 126/200\n",
      "225/225 - 0s - loss: 0.3847 - accuracy: 0.8385 - val_loss: 0.3382 - val_accuracy: 0.8675 - 87ms/epoch - 386us/step\n",
      "Epoch 127/200\n",
      "225/225 - 0s - loss: 0.3808 - accuracy: 0.8417 - val_loss: 0.3378 - val_accuracy: 0.8637 - 91ms/epoch - 404us/step\n",
      "Epoch 128/200\n",
      "225/225 - 0s - loss: 0.3910 - accuracy: 0.8378 - val_loss: 0.3394 - val_accuracy: 0.8650 - 89ms/epoch - 397us/step\n",
      "Epoch 129/200\n",
      "225/225 - 0s - loss: 0.3836 - accuracy: 0.8425 - val_loss: 0.3373 - val_accuracy: 0.8650 - 89ms/epoch - 397us/step\n",
      "Epoch 130/200\n",
      "225/225 - 0s - loss: 0.3835 - accuracy: 0.8397 - val_loss: 0.3376 - val_accuracy: 0.8662 - 89ms/epoch - 395us/step\n",
      "Epoch 131/200\n",
      "225/225 - 0s - loss: 0.3837 - accuracy: 0.8390 - val_loss: 0.3375 - val_accuracy: 0.8637 - 89ms/epoch - 397us/step\n",
      "Epoch 132/200\n",
      "225/225 - 0s - loss: 0.3863 - accuracy: 0.8411 - val_loss: 0.3393 - val_accuracy: 0.8662 - 89ms/epoch - 397us/step\n",
      "Epoch 133/200\n",
      "225/225 - 0s - loss: 0.3867 - accuracy: 0.8374 - val_loss: 0.3389 - val_accuracy: 0.8650 - 88ms/epoch - 393us/step\n",
      "Epoch 134/200\n",
      "225/225 - 0s - loss: 0.3902 - accuracy: 0.8383 - val_loss: 0.3373 - val_accuracy: 0.8650 - 89ms/epoch - 394us/step\n",
      "Epoch 135/200\n",
      "225/225 - 0s - loss: 0.3891 - accuracy: 0.8400 - val_loss: 0.3389 - val_accuracy: 0.8637 - 87ms/epoch - 386us/step\n",
      "Epoch 136/200\n",
      "225/225 - 0s - loss: 0.3807 - accuracy: 0.8425 - val_loss: 0.3353 - val_accuracy: 0.8625 - 90ms/epoch - 400us/step\n",
      "Epoch 137/200\n",
      "225/225 - 0s - loss: 0.3847 - accuracy: 0.8378 - val_loss: 0.3357 - val_accuracy: 0.8662 - 89ms/epoch - 396us/step\n",
      "Epoch 138/200\n",
      "225/225 - 0s - loss: 0.3877 - accuracy: 0.8371 - val_loss: 0.3376 - val_accuracy: 0.8612 - 89ms/epoch - 395us/step\n",
      "Epoch 139/200\n",
      "225/225 - 0s - loss: 0.3872 - accuracy: 0.8361 - val_loss: 0.3388 - val_accuracy: 0.8612 - 89ms/epoch - 396us/step\n",
      "Epoch 140/200\n",
      "225/225 - 0s - loss: 0.3843 - accuracy: 0.8403 - val_loss: 0.3377 - val_accuracy: 0.8612 - 90ms/epoch - 398us/step\n",
      "Epoch 141/200\n",
      "225/225 - 0s - loss: 0.3896 - accuracy: 0.8378 - val_loss: 0.3367 - val_accuracy: 0.8637 - 89ms/epoch - 395us/step\n",
      "Epoch 142/200\n",
      "225/225 - 0s - loss: 0.3863 - accuracy: 0.8357 - val_loss: 0.3371 - val_accuracy: 0.8625 - 89ms/epoch - 394us/step\n",
      "Epoch 143/200\n",
      "225/225 - 0s - loss: 0.3850 - accuracy: 0.8400 - val_loss: 0.3355 - val_accuracy: 0.8662 - 88ms/epoch - 391us/step\n",
      "Epoch 144/200\n",
      "225/225 - 0s - loss: 0.3822 - accuracy: 0.8404 - val_loss: 0.3359 - val_accuracy: 0.8662 - 87ms/epoch - 385us/step\n",
      "Epoch 145/200\n",
      "225/225 - 0s - loss: 0.3867 - accuracy: 0.8369 - val_loss: 0.3353 - val_accuracy: 0.8650 - 88ms/epoch - 392us/step\n",
      "Epoch 146/200\n",
      "225/225 - 0s - loss: 0.3822 - accuracy: 0.8400 - val_loss: 0.3344 - val_accuracy: 0.8637 - 89ms/epoch - 395us/step\n",
      "Epoch 147/200\n",
      "225/225 - 0s - loss: 0.3866 - accuracy: 0.8361 - val_loss: 0.3352 - val_accuracy: 0.8637 - 89ms/epoch - 395us/step\n",
      "Epoch 148/200\n",
      "225/225 - 0s - loss: 0.3910 - accuracy: 0.8392 - val_loss: 0.3368 - val_accuracy: 0.8612 - 88ms/epoch - 393us/step\n",
      "Epoch 149/200\n",
      "225/225 - 0s - loss: 0.3803 - accuracy: 0.8413 - val_loss: 0.3341 - val_accuracy: 0.8625 - 88ms/epoch - 392us/step\n",
      "Epoch 150/200\n",
      "225/225 - 0s - loss: 0.3842 - accuracy: 0.8392 - val_loss: 0.3336 - val_accuracy: 0.8612 - 88ms/epoch - 393us/step\n",
      "Epoch 151/200\n",
      "225/225 - 0s - loss: 0.3824 - accuracy: 0.8410 - val_loss: 0.3357 - val_accuracy: 0.8662 - 89ms/epoch - 395us/step\n",
      "Epoch 152/200\n",
      "225/225 - 0s - loss: 0.3854 - accuracy: 0.8369 - val_loss: 0.3357 - val_accuracy: 0.8662 - 89ms/epoch - 396us/step\n",
      "Epoch 153/200\n",
      "225/225 - 0s - loss: 0.3868 - accuracy: 0.8383 - val_loss: 0.3352 - val_accuracy: 0.8650 - 87ms/epoch - 385us/step\n",
      "Epoch 154/200\n",
      "225/225 - 0s - loss: 0.3891 - accuracy: 0.8376 - val_loss: 0.3358 - val_accuracy: 0.8637 - 97ms/epoch - 433us/step\n",
      "Epoch 155/200\n",
      "225/225 - 0s - loss: 0.3849 - accuracy: 0.8392 - val_loss: 0.3343 - val_accuracy: 0.8637 - 98ms/epoch - 436us/step\n",
      "Epoch 156/200\n",
      "225/225 - 0s - loss: 0.3833 - accuracy: 0.8400 - val_loss: 0.3353 - val_accuracy: 0.8662 - 90ms/epoch - 399us/step\n",
      "Epoch 157/200\n",
      "225/225 - 0s - loss: 0.3827 - accuracy: 0.8428 - val_loss: 0.3350 - val_accuracy: 0.8600 - 204ms/epoch - 907us/step\n",
      "Epoch 158/200\n",
      "225/225 - 0s - loss: 0.3839 - accuracy: 0.8386 - val_loss: 0.3346 - val_accuracy: 0.8587 - 224ms/epoch - 994us/step\n",
      "Epoch 159/200\n",
      "225/225 - 0s - loss: 0.3855 - accuracy: 0.8397 - val_loss: 0.3346 - val_accuracy: 0.8625 - 109ms/epoch - 484us/step\n",
      "Epoch 160/200\n",
      "225/225 - 0s - loss: 0.3871 - accuracy: 0.8404 - val_loss: 0.3367 - val_accuracy: 0.8650 - 114ms/epoch - 505us/step\n",
      "Epoch 161/200\n",
      "225/225 - 0s - loss: 0.3904 - accuracy: 0.8393 - val_loss: 0.3394 - val_accuracy: 0.8637 - 131ms/epoch - 583us/step\n",
      "Epoch 162/200\n",
      "225/225 - 0s - loss: 0.3847 - accuracy: 0.8401 - val_loss: 0.3355 - val_accuracy: 0.8625 - 125ms/epoch - 557us/step\n",
      "Epoch 163/200\n",
      "225/225 - 0s - loss: 0.3821 - accuracy: 0.8404 - val_loss: 0.3361 - val_accuracy: 0.8650 - 135ms/epoch - 599us/step\n",
      "Epoch 164/200\n",
      "225/225 - 0s - loss: 0.3839 - accuracy: 0.8407 - val_loss: 0.3361 - val_accuracy: 0.8637 - 106ms/epoch - 471us/step\n",
      "Epoch 165/200\n",
      "225/225 - 0s - loss: 0.3832 - accuracy: 0.8431 - val_loss: 0.3353 - val_accuracy: 0.8675 - 90ms/epoch - 399us/step\n",
      "Epoch 166/200\n",
      "225/225 - 0s - loss: 0.3888 - accuracy: 0.8399 - val_loss: 0.3341 - val_accuracy: 0.8662 - 90ms/epoch - 402us/step\n",
      "Epoch 167/200\n",
      "225/225 - 0s - loss: 0.3842 - accuracy: 0.8426 - val_loss: 0.3346 - val_accuracy: 0.8600 - 87ms/epoch - 385us/step\n",
      "Epoch 168/200\n",
      "225/225 - 0s - loss: 0.3864 - accuracy: 0.8381 - val_loss: 0.3358 - val_accuracy: 0.8662 - 90ms/epoch - 400us/step\n",
      "Epoch 169/200\n",
      "225/225 - 0s - loss: 0.3849 - accuracy: 0.8406 - val_loss: 0.3366 - val_accuracy: 0.8650 - 89ms/epoch - 394us/step\n",
      "Epoch 170/200\n",
      "225/225 - 0s - loss: 0.3809 - accuracy: 0.8403 - val_loss: 0.3370 - val_accuracy: 0.8587 - 88ms/epoch - 390us/step\n",
      "Epoch 171/200\n",
      "225/225 - 0s - loss: 0.3862 - accuracy: 0.8389 - val_loss: 0.3355 - val_accuracy: 0.8662 - 93ms/epoch - 414us/step\n",
      "Epoch 172/200\n",
      "225/225 - 0s - loss: 0.3883 - accuracy: 0.8332 - val_loss: 0.3340 - val_accuracy: 0.8637 - 90ms/epoch - 401us/step\n",
      "Epoch 173/200\n",
      "225/225 - 0s - loss: 0.3866 - accuracy: 0.8375 - val_loss: 0.3353 - val_accuracy: 0.8662 - 90ms/epoch - 400us/step\n",
      "Epoch 174/200\n",
      "225/225 - 0s - loss: 0.3840 - accuracy: 0.8400 - val_loss: 0.3361 - val_accuracy: 0.8612 - 90ms/epoch - 401us/step\n",
      "Epoch 175/200\n",
      "225/225 - 0s - loss: 0.3871 - accuracy: 0.8418 - val_loss: 0.3372 - val_accuracy: 0.8625 - 88ms/epoch - 390us/step\n",
      "Epoch 176/200\n",
      "225/225 - 0s - loss: 0.3842 - accuracy: 0.8410 - val_loss: 0.3356 - val_accuracy: 0.8662 - 86ms/epoch - 384us/step\n",
      "Epoch 177/200\n",
      "225/225 - 0s - loss: 0.3859 - accuracy: 0.8403 - val_loss: 0.3351 - val_accuracy: 0.8662 - 89ms/epoch - 396us/step\n",
      "Epoch 178/200\n",
      "225/225 - 0s - loss: 0.3848 - accuracy: 0.8383 - val_loss: 0.3369 - val_accuracy: 0.8675 - 91ms/epoch - 404us/step\n",
      "Epoch 179/200\n",
      "225/225 - 0s - loss: 0.3869 - accuracy: 0.8414 - val_loss: 0.3370 - val_accuracy: 0.8625 - 88ms/epoch - 392us/step\n",
      "Epoch 180/200\n",
      "225/225 - 0s - loss: 0.3812 - accuracy: 0.8407 - val_loss: 0.3345 - val_accuracy: 0.8650 - 89ms/epoch - 397us/step\n",
      "Epoch 181/200\n",
      "225/225 - 0s - loss: 0.3826 - accuracy: 0.8396 - val_loss: 0.3348 - val_accuracy: 0.8675 - 89ms/epoch - 397us/step\n",
      "Epoch 182/200\n",
      "225/225 - 0s - loss: 0.3865 - accuracy: 0.8428 - val_loss: 0.3352 - val_accuracy: 0.8650 - 90ms/epoch - 400us/step\n",
      "Epoch 183/200\n",
      "225/225 - 0s - loss: 0.3886 - accuracy: 0.8374 - val_loss: 0.3369 - val_accuracy: 0.8687 - 89ms/epoch - 396us/step\n",
      "Epoch 184/200\n",
      "225/225 - 0s - loss: 0.3847 - accuracy: 0.8393 - val_loss: 0.3370 - val_accuracy: 0.8662 - 87ms/epoch - 388us/step\n",
      "Epoch 185/200\n",
      "225/225 - 0s - loss: 0.3877 - accuracy: 0.8363 - val_loss: 0.3376 - val_accuracy: 0.8625 - 89ms/epoch - 397us/step\n",
      "Epoch 186/200\n",
      "225/225 - 0s - loss: 0.3867 - accuracy: 0.8400 - val_loss: 0.3373 - val_accuracy: 0.8662 - 87ms/epoch - 387us/step\n",
      "Epoch 187/200\n",
      "225/225 - 0s - loss: 0.3864 - accuracy: 0.8404 - val_loss: 0.3369 - val_accuracy: 0.8662 - 89ms/epoch - 395us/step\n",
      "Epoch 188/200\n",
      "225/225 - 0s - loss: 0.3829 - accuracy: 0.8404 - val_loss: 0.3344 - val_accuracy: 0.8650 - 91ms/epoch - 403us/step\n",
      "Epoch 189/200\n",
      "225/225 - 0s - loss: 0.3864 - accuracy: 0.8386 - val_loss: 0.3355 - val_accuracy: 0.8637 - 91ms/epoch - 404us/step\n",
      "Epoch 190/200\n",
      "225/225 - 0s - loss: 0.3891 - accuracy: 0.8403 - val_loss: 0.3351 - val_accuracy: 0.8637 - 91ms/epoch - 406us/step\n",
      "Epoch 191/200\n",
      "225/225 - 0s - loss: 0.3847 - accuracy: 0.8421 - val_loss: 0.3350 - val_accuracy: 0.8625 - 90ms/epoch - 398us/step\n",
      "Epoch 192/200\n",
      "225/225 - 0s - loss: 0.3836 - accuracy: 0.8406 - val_loss: 0.3365 - val_accuracy: 0.8625 - 90ms/epoch - 400us/step\n",
      "Epoch 193/200\n",
      "225/225 - 0s - loss: 0.3853 - accuracy: 0.8407 - val_loss: 0.3362 - val_accuracy: 0.8625 - 89ms/epoch - 398us/step\n",
      "Epoch 194/200\n",
      "225/225 - 0s - loss: 0.3817 - accuracy: 0.8415 - val_loss: 0.3359 - val_accuracy: 0.8625 - 89ms/epoch - 394us/step\n",
      "Epoch 195/200\n",
      "225/225 - 0s - loss: 0.3819 - accuracy: 0.8400 - val_loss: 0.3346 - val_accuracy: 0.8650 - 87ms/epoch - 386us/step\n",
      "Epoch 196/200\n",
      "225/225 - 0s - loss: 0.3862 - accuracy: 0.8385 - val_loss: 0.3356 - val_accuracy: 0.8662 - 91ms/epoch - 402us/step\n",
      "Epoch 197/200\n",
      "225/225 - 0s - loss: 0.3881 - accuracy: 0.8394 - val_loss: 0.3356 - val_accuracy: 0.8662 - 88ms/epoch - 392us/step\n",
      "Epoch 198/200\n",
      "225/225 - 0s - loss: 0.3851 - accuracy: 0.8392 - val_loss: 0.3368 - val_accuracy: 0.8637 - 89ms/epoch - 396us/step\n",
      "Epoch 199/200\n",
      "225/225 - 0s - loss: 0.3869 - accuracy: 0.8396 - val_loss: 0.3367 - val_accuracy: 0.8675 - 89ms/epoch - 395us/step\n",
      "Epoch 200/200\n",
      "225/225 - 0s - loss: 0.3899 - accuracy: 0.8381 - val_loss: 0.3369 - val_accuracy: 0.8675 - 89ms/epoch - 395us/step\n"
     ]
    }
   ],
   "source": [
    "history = classifier.fit(X_train, y_train, batch_size=32, epochs=200, validation_split=0.1, verbose=2)"
   ]
  },
  {
   "cell_type": "markdown",
   "metadata": {},
   "source": [
    "### Testing the NN\n",
    "\n",
    "Predicting the Test set results\n",
    "\n",
    "This shows the probability of a customer leaving given the testing data. Each row in X_test corresponds to a row in Y_test"
   ]
  },
  {
   "cell_type": "code",
   "execution_count": 88,
   "metadata": {},
   "outputs": [
    {
     "data": {
      "image/png": "[encoded data removed]",
      "text/plain": [
       "<Figure size 640x480 with 1 Axes>"
      ]
     },
     "metadata": {},
     "output_type": "display_data"
    }
   ],
   "source": [
    "plt.plot(np.array(history.history['accuracy']) * 100)\n",
    "plt.plot(np.array(history.history['val_accuracy']) * 100)\n",
    "plt.ylabel('accuracy')\n",
    "plt.xlabel('epochs')\n",
    "plt.legend(['train', 'validation'])\n",
    "plt.title('Accuracy over epochs')\n",
    "plt.show()"
   ]
  },
  {
   "cell_type": "code",
   "execution_count": 89,
   "metadata": {},
   "outputs": [
    {
     "name": "stdout",
     "output_type": "stream",
     "text": [
      "63/63 [==============================] - 0s 373us/step\n",
      "[[0.28940254]\n",
      " [0.36575165]\n",
      " [0.17508985]\n",
      " [0.05586021]\n",
      " [0.17178039]]\n"
     ]
    }
   ],
   "source": [
    "y_pred = classifier.predict(X_test)\n",
    "print(y_pred[:5])"
   ]
  },
  {
   "cell_type": "markdown",
   "metadata": {},
   "source": [
    "To use the confusion Matrix, we need to convert the probabilities that a customer will leave the bank into the form true or false. So we will use the cutoff value 0.5 to indicate whether they are likely to exit or not."
   ]
  },
  {
   "cell_type": "code",
   "execution_count": 90,
   "metadata": {},
   "outputs": [
    {
     "name": "stdout",
     "output_type": "stream",
     "text": [
      "[[0]\n",
      " [0]\n",
      " [0]\n",
      " [0]\n",
      " [0]]\n"
     ]
    }
   ],
   "source": [
    "y_pred = (y_pred > 0.5).astype(int)\n",
    "print(y_pred[:5])"
   ]
  },
  {
   "cell_type": "markdown",
   "metadata": {},
   "source": [
    "Making the Confusion Matrix"
   ]
  },
  {
   "cell_type": "code",
   "execution_count": 91,
   "metadata": {},
   "outputs": [
    {
     "name": "stdout",
     "output_type": "stream",
     "text": [
      "[[1556   39]\n",
      " [ 241  164]]\n"
     ]
    }
   ],
   "source": [
    "from sklearn.metrics import confusion_matrix\n",
    "cm = confusion_matrix(y_test, y_pred)\n",
    "print(cm)"
   ]
  },
  {
   "cell_type": "code",
   "execution_count": 92,
   "metadata": {},
   "outputs": [
    {
     "name": "stdout",
     "output_type": "stream",
     "text": [
      "86.0 % of testing data was classified correctly\n"
     ]
    }
   ],
   "source": [
    "print (((cm[0][0]+cm[1][1])*100)/(len(y_test)), '% of testing data was classified correctly')"
   ]
  }
 ],
 "metadata": {
  "kernelspec": {
   "display_name": "Python 3.9.6 ('venv': venv)",
   "language": "python",
   "name": "python3"
  },
  "language_info": {
   "codemirror_mode": {
    "name": "ipython",
    "version": 3
   },
   "file_extension": ".py",
   "mimetype": "text/x-python",
   "name": "python",
   "nbconvert_exporter": "python",
   "pygments_lexer": "ipython3",
   "version": "3.9.6"
  },
  "orig_nbformat": 4,
  "vscode": {
   "interpreter": {
    "hash": "5020255217b04ea964beb395444fdb6093ed8f41a54576fec0f6b0af8500d995"
   }
  }
 },
 "nbformat": 4,
 "nbformat_minor": 2
}
